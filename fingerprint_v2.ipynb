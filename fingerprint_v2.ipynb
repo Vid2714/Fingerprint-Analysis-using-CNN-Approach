{
 "cells": [
  {
   "cell_type": "markdown",
   "metadata": {},
   "source": [
    "# Importing Libraries"
   ]
  },
  {
   "cell_type": "code",
   "execution_count": 1,
   "metadata": {},
   "outputs": [],
   "source": [
    "import numpy as np\n",
    "import os\n",
    "import cv2\n",
    "import random"
   ]
  },
  {
   "cell_type": "code",
   "execution_count": 2,
   "metadata": {},
   "outputs": [
    {
     "name": "stdout",
     "output_type": "stream",
     "text": [
      "WARNING:tensorflow:From c:\\Users\\marve\\AppData\\Local\\Programs\\Python\\Python311\\Lib\\site-packages\\keras\\src\\losses.py:2976: The name tf.losses.sparse_softmax_cross_entropy is deprecated. Please use tf.compat.v1.losses.sparse_softmax_cross_entropy instead.\n",
      "\n"
     ]
    }
   ],
   "source": [
    "from keras.utils import to_categorical\n",
    "from sklearn.model_selection import train_test_split\n",
    "from tensorflow.keras import Sequential, Model, Input\n",
    "from tensorflow.keras.layers import Conv2D, MaxPooling2D, Dense, Flatten, BatchNormalization, Dropout\n",
    "from tensorflow.keras import optimizers\n",
    "from tensorflow.keras.preprocessing.image import ImageDataGenerator\n",
    "import tensorflow as tf"
   ]
  },
  {
   "cell_type": "markdown",
   "metadata": {},
   "source": [
    "# Data Preparation"
   ]
  },
  {
   "cell_type": "code",
   "execution_count": 3,
   "metadata": {},
   "outputs": [],
   "source": [
    "def extract_label(img_path, train=True):\n",
    "    filename, _ = os.path.splitext(os.path.basename(img_path))\n",
    "    subject_id, etc = filename.split('__')\n",
    "    \n",
    "    if train:\n",
    "        gender, lr, finger, alteration, _ = etc.split('_')\n",
    "    else:\n",
    "        gender, lr, finger, alteration = etc.split('_')\n",
    "    \n",
    "    '''gender = 0 if gender == 'M' else 1\n",
    "    lr = 0 if lr == 'Left' else 1'''\n",
    "\n",
    "    finger_dict = {'thumb': 0, 'index': 1, 'middle': 2, 'ring': 3, 'little': 4}\n",
    "    finger = finger_dict.get(finger, -1)\n",
    "    \n",
    "    real = 1 if alteration == 'Real' else 0\n",
    "\n",
    "    return np.array([finger], dtype=np.uint16), np.array([real], dtype=np.uint16)\n",
    "\n",
    "img_size = 32\n",
    "\n",
    "def loading_data(path, train):\n",
    "    print(\"loading data from:\", path)\n",
    "    data = []\n",
    "    labels_finger = []\n",
    "    labels_real = []\n",
    "    for img in os.listdir(path):\n",
    "        try:\n",
    "            img_array = cv2.imread(os.path.join(path, img), cv2.IMREAD_GRAYSCALE)\n",
    "            img_resize = cv2.resize(img_array, (img_size, img_size))\n",
    "            label_finger, label_real = extract_label(os.path.join(path, img), train)\n",
    "            data.append(img_resize)\n",
    "            labels_finger.append(label_finger)\n",
    "            labels_real.append(label_real)\n",
    "        except Exception as e:\n",
    "            pass\n",
    "    return np.array(data, dtype=np.float32), np.array(labels_finger), np.array(labels_real)"
   ]
  },
  {
   "cell_type": "code",
   "execution_count": 4,
   "metadata": {},
   "outputs": [
    {
     "name": "stdout",
     "output_type": "stream",
     "text": [
      "loading data from: C:/Users/marve/Vidhyuth/Programming/Datasets/Fingerprint_images/SOCOFing/Altered-Easy\n",
      "loading data from: C:/Users/marve/Vidhyuth/Programming/Datasets/Fingerprint_images/SOCOFing/Altered-Medium\n",
      "loading data from: C:/Users/marve/Vidhyuth/Programming/Datasets/Fingerprint_images/SOCOFing/Altered-Hard\n",
      "loading data from: C:/Users/marve/Vidhyuth/Programming/Datasets/Fingerprint_images/SOCOFing/Real\n"
     ]
    }
   ],
   "source": [
    "Real_path = \"C:/Users/marve/Vidhyuth/Programming/Datasets/Fingerprint_images/SOCOFing/Real\"\n",
    "Easy_path = \"C:/Users/marve/Vidhyuth/Programming/Datasets/Fingerprint_images/SOCOFing/Altered-Easy\"\n",
    "Medium_path = \"C:/Users/marve/Vidhyuth/Programming/Datasets/Fingerprint_images/SOCOFing/Altered-Medium\"\n",
    "Hard_path = \"C:/Users/marve/Vidhyuth/Programming/Datasets/Fingerprint_images/SOCOFing/Altered-Hard\"\n",
    "\n",
    "Easy_data, Easy_labels_finger, Easy_labels_real = loading_data(Easy_path, train=True)\n",
    "Medium_data, Medium_labels_finger, Medium_labels_real = loading_data(Medium_path, train=True)\n",
    "Hard_data, Hard_labels_finger, Hard_labels_real = loading_data(Hard_path, train=True)\n",
    "test_data, test_labels_finger, test_labels_real = loading_data(Real_path, train=False)\n",
    "\n",
    "# Concatenate data and labels\n",
    "data = np.concatenate([Easy_data, Medium_data, Hard_data], axis=0)\n",
    "labels_finger = np.concatenate([Easy_labels_finger, Medium_labels_finger, Hard_labels_finger], axis=0)\n",
    "\n",
    "# Reshape labels to be 1D arrays\n",
    "labels_finger = labels_finger.flatten()\n",
    "\n",
    "# Convert labels to categorical\n",
    "train_labels_finger = to_categorical(labels_finger, num_classes=5)"
   ]
  },
  {
   "cell_type": "code",
   "execution_count": 5,
   "metadata": {},
   "outputs": [],
   "source": [
    "# Normalize the data\n",
    "data = data.astype('float32') / 255.0\n",
    "\n",
    "# Manually split the data into training and validation sets\n",
    "X_train, X_val, y_train_finger, y_val_finger = train_test_split(\n",
    "    data, train_labels_finger, test_size=0.2, random_state=42\n",
    ")"
   ]
  },
  {
   "cell_type": "code",
   "execution_count": 6,
   "metadata": {},
   "outputs": [
    {
     "name": "stdout",
     "output_type": "stream",
     "text": [
      "Shapes:\n",
      "X_train shape: (39416, 32, 32)\n",
      "y_train_finger shape: (39416, 5)\n",
      "After conversion:\n",
      "y_train_finger_categorical shape: (39416, 5)\n"
     ]
    }
   ],
   "source": [
    "# Check shapes of your data and labels\n",
    "print(\"Shapes:\")\n",
    "print(\"X_train shape:\", X_train.shape)\n",
    "print(\"y_train_finger shape:\", y_train_finger.shape)\n",
    "\n",
    "from keras.utils import to_categorical\n",
    "\n",
    "# Assuming num_gender_classes = 2 and num_finger_classes = 5\n",
    "num_finger_classes = 5\n",
    "\n",
    "# Convert to categorical\n",
    "y_train_finger_categorical = to_categorical(y_train_finger[:, 0], num_classes=num_finger_classes)\n",
    "\n",
    "# Verify shapes after conversion\n",
    "print(\"After conversion:\")\n",
    "print(\"y_train_finger_categorical shape:\", y_train_finger_categorical.shape)"
   ]
  },
  {
   "cell_type": "markdown",
   "metadata": {},
   "source": [
    "# Data Generators"
   ]
  },
  {
   "cell_type": "code",
   "execution_count": 8,
   "metadata": {},
   "outputs": [
    {
     "ename": "ValueError",
     "evalue": "('Input data in `NumpyArrayIterator` should have rank 4. You passed an array with shape', (39416, 32, 32))",
     "output_type": "error",
     "traceback": [
      "\u001b[1;31m---------------------------------------------------------------------------\u001b[0m",
      "\u001b[1;31mValueError\u001b[0m                                Traceback (most recent call last)",
      "Cell \u001b[1;32mIn[8], line 13\u001b[0m\n\u001b[0;32m     10\u001b[0m val_datagen \u001b[38;5;241m=\u001b[39m ImageDataGenerator()\n\u001b[0;32m     12\u001b[0m \u001b[38;5;66;03m# Create generators\u001b[39;00m\n\u001b[1;32m---> 13\u001b[0m train_generator \u001b[38;5;241m=\u001b[39m \u001b[43mtrain_datagen\u001b[49m\u001b[38;5;241;43m.\u001b[39;49m\u001b[43mflow\u001b[49m\u001b[43m(\u001b[49m\u001b[43mX_train\u001b[49m\u001b[43m,\u001b[49m\u001b[43m \u001b[49m\u001b[43my_train_finger_categorical\u001b[49m\u001b[43m,\u001b[49m\u001b[43m \u001b[49m\u001b[43mbatch_size\u001b[49m\u001b[38;5;241;43m=\u001b[39;49m\u001b[38;5;241;43m64\u001b[39;49m\u001b[43m)\u001b[49m\n\u001b[0;32m     14\u001b[0m val_generator \u001b[38;5;241m=\u001b[39m val_datagen\u001b[38;5;241m.\u001b[39mflow(X_val, y_val_finger, batch_size\u001b[38;5;241m=\u001b[39m\u001b[38;5;241m64\u001b[39m)\n",
      "File \u001b[1;32mc:\\Users\\marve\\AppData\\Local\\Programs\\Python\\Python311\\Lib\\site-packages\\keras\\src\\preprocessing\\image.py:1545\u001b[0m, in \u001b[0;36mImageDataGenerator.flow\u001b[1;34m(self, x, y, batch_size, shuffle, sample_weight, seed, save_to_dir, save_prefix, save_format, ignore_class_split, subset)\u001b[0m\n\u001b[0;32m   1486\u001b[0m \u001b[38;5;28;01mdef\u001b[39;00m \u001b[38;5;21mflow\u001b[39m(\n\u001b[0;32m   1487\u001b[0m     \u001b[38;5;28mself\u001b[39m,\n\u001b[0;32m   1488\u001b[0m     x,\n\u001b[1;32m   (...)\u001b[0m\n\u001b[0;32m   1498\u001b[0m     subset\u001b[38;5;241m=\u001b[39m\u001b[38;5;28;01mNone\u001b[39;00m,\n\u001b[0;32m   1499\u001b[0m ):\n\u001b[0;32m   1500\u001b[0m \u001b[38;5;250m    \u001b[39m\u001b[38;5;124;03m\"\"\"Takes data & label arrays, generates batches of augmented data.\u001b[39;00m\n\u001b[0;32m   1501\u001b[0m \n\u001b[0;32m   1502\u001b[0m \u001b[38;5;124;03m    Args:\u001b[39;00m\n\u001b[1;32m   (...)\u001b[0m\n\u001b[0;32m   1543\u001b[0m \n\u001b[0;32m   1544\u001b[0m \u001b[38;5;124;03m    \"\"\"\u001b[39;00m\n\u001b[1;32m-> 1545\u001b[0m     \u001b[38;5;28;01mreturn\u001b[39;00m \u001b[43mNumpyArrayIterator\u001b[49m\u001b[43m(\u001b[49m\n\u001b[0;32m   1546\u001b[0m \u001b[43m        \u001b[49m\u001b[43mx\u001b[49m\u001b[43m,\u001b[49m\n\u001b[0;32m   1547\u001b[0m \u001b[43m        \u001b[49m\u001b[43my\u001b[49m\u001b[43m,\u001b[49m\n\u001b[0;32m   1548\u001b[0m \u001b[43m        \u001b[49m\u001b[38;5;28;43mself\u001b[39;49m\u001b[43m,\u001b[49m\n\u001b[0;32m   1549\u001b[0m \u001b[43m        \u001b[49m\u001b[43mbatch_size\u001b[49m\u001b[38;5;241;43m=\u001b[39;49m\u001b[43mbatch_size\u001b[49m\u001b[43m,\u001b[49m\n\u001b[0;32m   1550\u001b[0m \u001b[43m        \u001b[49m\u001b[43mshuffle\u001b[49m\u001b[38;5;241;43m=\u001b[39;49m\u001b[43mshuffle\u001b[49m\u001b[43m,\u001b[49m\n\u001b[0;32m   1551\u001b[0m \u001b[43m        \u001b[49m\u001b[43msample_weight\u001b[49m\u001b[38;5;241;43m=\u001b[39;49m\u001b[43msample_weight\u001b[49m\u001b[43m,\u001b[49m\n\u001b[0;32m   1552\u001b[0m \u001b[43m        \u001b[49m\u001b[43mseed\u001b[49m\u001b[38;5;241;43m=\u001b[39;49m\u001b[43mseed\u001b[49m\u001b[43m,\u001b[49m\n\u001b[0;32m   1553\u001b[0m \u001b[43m        \u001b[49m\u001b[43mdata_format\u001b[49m\u001b[38;5;241;43m=\u001b[39;49m\u001b[38;5;28;43mself\u001b[39;49m\u001b[38;5;241;43m.\u001b[39;49m\u001b[43mdata_format\u001b[49m\u001b[43m,\u001b[49m\n\u001b[0;32m   1554\u001b[0m \u001b[43m        \u001b[49m\u001b[43msave_to_dir\u001b[49m\u001b[38;5;241;43m=\u001b[39;49m\u001b[43msave_to_dir\u001b[49m\u001b[43m,\u001b[49m\n\u001b[0;32m   1555\u001b[0m \u001b[43m        \u001b[49m\u001b[43msave_prefix\u001b[49m\u001b[38;5;241;43m=\u001b[39;49m\u001b[43msave_prefix\u001b[49m\u001b[43m,\u001b[49m\n\u001b[0;32m   1556\u001b[0m \u001b[43m        \u001b[49m\u001b[43msave_format\u001b[49m\u001b[38;5;241;43m=\u001b[39;49m\u001b[43msave_format\u001b[49m\u001b[43m,\u001b[49m\n\u001b[0;32m   1557\u001b[0m \u001b[43m        \u001b[49m\u001b[43mignore_class_split\u001b[49m\u001b[38;5;241;43m=\u001b[39;49m\u001b[43mignore_class_split\u001b[49m\u001b[43m,\u001b[49m\n\u001b[0;32m   1558\u001b[0m \u001b[43m        \u001b[49m\u001b[43msubset\u001b[49m\u001b[38;5;241;43m=\u001b[39;49m\u001b[43msubset\u001b[49m\u001b[43m,\u001b[49m\n\u001b[0;32m   1559\u001b[0m \u001b[43m        \u001b[49m\u001b[43mdtype\u001b[49m\u001b[38;5;241;43m=\u001b[39;49m\u001b[38;5;28;43mself\u001b[39;49m\u001b[38;5;241;43m.\u001b[39;49m\u001b[43mdtype\u001b[49m\u001b[43m,\u001b[49m\n\u001b[0;32m   1560\u001b[0m \u001b[43m    \u001b[49m\u001b[43m)\u001b[49m\n",
      "File \u001b[1;32mc:\\Users\\marve\\AppData\\Local\\Programs\\Python\\Python311\\Lib\\site-packages\\keras\\src\\preprocessing\\image.py:758\u001b[0m, in \u001b[0;36mNumpyArrayIterator.__init__\u001b[1;34m(self, x, y, image_data_generator, batch_size, shuffle, sample_weight, seed, data_format, save_to_dir, save_prefix, save_format, subset, ignore_class_split, dtype)\u001b[0m\n\u001b[0;32m    756\u001b[0m \u001b[38;5;28mself\u001b[39m\u001b[38;5;241m.\u001b[39mx_misc \u001b[38;5;241m=\u001b[39m x_misc\n\u001b[0;32m    757\u001b[0m \u001b[38;5;28;01mif\u001b[39;00m \u001b[38;5;28mself\u001b[39m\u001b[38;5;241m.\u001b[39mx\u001b[38;5;241m.\u001b[39mndim \u001b[38;5;241m!=\u001b[39m \u001b[38;5;241m4\u001b[39m:\n\u001b[1;32m--> 758\u001b[0m     \u001b[38;5;28;01mraise\u001b[39;00m \u001b[38;5;167;01mValueError\u001b[39;00m(\n\u001b[0;32m    759\u001b[0m         \u001b[38;5;124m\"\u001b[39m\u001b[38;5;124mInput data in `NumpyArrayIterator` \u001b[39m\u001b[38;5;124m\"\u001b[39m\n\u001b[0;32m    760\u001b[0m         \u001b[38;5;124m\"\u001b[39m\u001b[38;5;124mshould have rank 4. You passed an array \u001b[39m\u001b[38;5;124m\"\u001b[39m\n\u001b[0;32m    761\u001b[0m         \u001b[38;5;124m\"\u001b[39m\u001b[38;5;124mwith shape\u001b[39m\u001b[38;5;124m\"\u001b[39m,\n\u001b[0;32m    762\u001b[0m         \u001b[38;5;28mself\u001b[39m\u001b[38;5;241m.\u001b[39mx\u001b[38;5;241m.\u001b[39mshape,\n\u001b[0;32m    763\u001b[0m     )\n\u001b[0;32m    764\u001b[0m channels_axis \u001b[38;5;241m=\u001b[39m \u001b[38;5;241m3\u001b[39m \u001b[38;5;28;01mif\u001b[39;00m data_format \u001b[38;5;241m==\u001b[39m \u001b[38;5;124m\"\u001b[39m\u001b[38;5;124mchannels_last\u001b[39m\u001b[38;5;124m\"\u001b[39m \u001b[38;5;28;01melse\u001b[39;00m \u001b[38;5;241m1\u001b[39m\n\u001b[0;32m    765\u001b[0m \u001b[38;5;28;01mif\u001b[39;00m \u001b[38;5;28mself\u001b[39m\u001b[38;5;241m.\u001b[39mx\u001b[38;5;241m.\u001b[39mshape[channels_axis] \u001b[38;5;129;01mnot\u001b[39;00m \u001b[38;5;129;01min\u001b[39;00m {\u001b[38;5;241m1\u001b[39m, \u001b[38;5;241m3\u001b[39m, \u001b[38;5;241m4\u001b[39m}:\n",
      "\u001b[1;31mValueError\u001b[0m: ('Input data in `NumpyArrayIterator` should have rank 4. You passed an array with shape', (39416, 32, 32))"
     ]
    }
   ],
   "source": [
    "# Create ImageDataGenerator instances\n",
    "train_datagen = ImageDataGenerator(\n",
    "    rotation_range=20,\n",
    "    width_shift_range=0.2,\n",
    "    horizontal_flip=True,\n",
    "    zoom_range=0.2,\n",
    "    shear_range=0.2\n",
    ")\n",
    "\n",
    "val_datagen = ImageDataGenerator()\n",
    "\n",
    "# Create generators\n",
    "train_generator = train_datagen.flow(X_train, y_train_finger_categorical, batch_size=64)\n",
    "val_generator = val_datagen.flow(X_val, y_val_finger, batch_size=64)"
   ]
  },
  {
   "cell_type": "markdown",
   "metadata": {},
   "source": [
    "# Model for Gender and Finger Classification"
   ]
  },
  {
   "cell_type": "code",
   "execution_count": 12,
   "metadata": {},
   "outputs": [
    {
     "name": "stdout",
     "output_type": "stream",
     "text": [
      "Model: \"sequential_3\"\n",
      "_________________________________________________________________\n",
      " Layer (type)                Output Shape              Param #   \n",
      "=================================================================\n",
      " conv2d_6 (Conv2D)           (None, 32, 32, 32)        320       \n",
      "                                                                 \n",
      " batch_normalization_3 (Bat  (None, 32, 32, 32)        128       \n",
      " chNormalization)                                                \n",
      "                                                                 \n",
      " max_pooling2d_6 (MaxPoolin  (None, 16, 16, 32)        0         \n",
      " g2D)                                                            \n",
      "                                                                 \n",
      " dropout_3 (Dropout)         (None, 16, 16, 32)        0         \n",
      "                                                                 \n",
      " conv2d_7 (Conv2D)           (None, 16, 16, 64)        18496     \n",
      "                                                                 \n",
      " batch_normalization_4 (Bat  (None, 16, 16, 64)        256       \n",
      " chNormalization)                                                \n",
      "                                                                 \n",
      " max_pooling2d_7 (MaxPoolin  (None, 8, 8, 64)          0         \n",
      " g2D)                                                            \n",
      "                                                                 \n",
      " flatten_3 (Flatten)         (None, 4096)              0         \n",
      "                                                                 \n",
      " dense_3 (Dense)             (None, 128)               524416    \n",
      "                                                                 \n",
      " finger_output (Dense)       (None, 5)                 645       \n",
      "                                                                 \n",
      "=================================================================\n",
      "Total params: 544261 (2.08 MB)\n",
      "Trainable params: 544069 (2.08 MB)\n",
      "Non-trainable params: 192 (768.00 Byte)\n",
      "_________________________________________________________________\n",
      "Epoch 1/5\n",
      "616/616 [==============================] - 20s 30ms/step - loss: 0.3049 - accuracy: 0.8942 - val_loss: 11.4814 - val_accuracy: 0.0529\n",
      "Epoch 2/5\n",
      "616/616 [==============================] - 18s 30ms/step - loss: 0.1861 - accuracy: 0.9296 - val_loss: 14.7207 - val_accuracy: 0.0450\n",
      "Epoch 3/5\n",
      "616/616 [==============================] - 19s 30ms/step - loss: 0.1397 - accuracy: 0.9462 - val_loss: 10.7744 - val_accuracy: 0.0339\n",
      "Epoch 4/5\n",
      "616/616 [==============================] - 18s 29ms/step - loss: 0.1016 - accuracy: 0.9609 - val_loss: 11.5139 - val_accuracy: 0.0152\n",
      "Epoch 5/5\n",
      "616/616 [==============================] - 18s 30ms/step - loss: 0.0779 - accuracy: 0.9704 - val_loss: 12.0473 - val_accuracy: 0.0174\n"
     ]
    }
   ],
   "source": [
    "# Build the model for gender and finger classification\n",
    "model = Sequential([\n",
    "    Conv2D(32, 3, padding='same', activation='relu',input_shape=(img_size, img_size, 1)),\n",
    "    BatchNormalization(),\n",
    "    MaxPooling2D(2),\n",
    "\n",
    "    Dropout(0.4),\n",
    "\n",
    "    Conv2D(64, 3, padding='same', activation='relu'),\n",
    "    BatchNormalization(),\n",
    "    MaxPooling2D(2),\n",
    "\n",
    "    Flatten(),\n",
    "    Dense(128, activation='relu'),    \n",
    "\n",
    "    Dense(5, activation='softmax', name='finger_output')\n",
    "])\n",
    "\n",
    "\n",
    "model.summary()\n",
    "model.compile(optimizer=optimizers.Adam(1e-3), \n",
    "              loss='categorical_crossentropy', \n",
    "              metrics=['accuracy'])\n",
    "\n",
    "early_stopping_cb = tf.keras.callbacks.EarlyStopping(monitor='val_loss', patience=3)\n",
    "\n",
    "history = model.fit(X_train, y_train_finger_categorical, \n",
    "                    batch_size=64, epochs=5, \n",
    "                    validation_data=[X_val, y_val_finger], \n",
    "                    callbacks=[early_stopping_cb], verbose=1)\n"
   ]
  },
  {
   "cell_type": "markdown",
   "metadata": {},
   "source": [
    "# Model for Real vs. Altered Classification"
   ]
  },
  {
   "cell_type": "code",
   "execution_count": 16,
   "metadata": {},
   "outputs": [
    {
     "name": "stdout",
     "output_type": "stream",
     "text": [
      "Model: \"sequential_6\"\n",
      "_________________________________________________________________\n",
      " Layer (type)                Output Shape              Param #   \n",
      "=================================================================\n",
      " conv2d_12 (Conv2D)          (None, 32, 32, 32)        320       \n",
      "                                                                 \n",
      " max_pooling2d_12 (MaxPooli  (None, 16, 16, 32)        0         \n",
      " ng2D)                                                           \n",
      "                                                                 \n",
      " conv2d_13 (Conv2D)          (None, 16, 16, 32)        9248      \n",
      "                                                                 \n",
      " batch_normalization_7 (Bat  (None, 16, 16, 32)        128       \n",
      " chNormalization)                                                \n",
      "                                                                 \n",
      " max_pooling2d_13 (MaxPooli  (None, 8, 8, 32)          0         \n",
      " ng2D)                                                           \n",
      "                                                                 \n",
      " flatten_6 (Flatten)         (None, 2048)              0         \n",
      "                                                                 \n",
      " dense_6 (Dense)             (None, 128)               262272    \n",
      "                                                                 \n",
      " dropout_6 (Dropout)         (None, 128)               0         \n",
      "                                                                 \n",
      " real_output (Dense)         (None, 2)                 258       \n",
      "                                                                 \n",
      "=================================================================\n",
      "Total params: 272226 (1.04 MB)\n",
      "Trainable params: 272162 (1.04 MB)\n",
      "Non-trainable params: 64 (256.00 Byte)\n",
      "_________________________________________________________________\n",
      "Epoch 1/5\n",
      "539/539 [==============================] - 11s 18ms/step - loss: 0.0023 - accuracy: 0.9986 - val_loss: 2.7011e-07 - val_accuracy: 1.0000\n",
      "Epoch 2/5\n",
      "539/539 [==============================] - 10s 18ms/step - loss: 1.7858e-06 - accuracy: 1.0000 - val_loss: 0.0000e+00 - val_accuracy: 1.0000\n",
      "Epoch 3/5\n",
      "539/539 [==============================] - 8s 15ms/step - loss: 1.2754e-09 - accuracy: 1.0000 - val_loss: 0.0000e+00 - val_accuracy: 1.0000\n",
      "Epoch 4/5\n",
      "539/539 [==============================] - 8s 14ms/step - loss: 5.1249e-08 - accuracy: 1.0000 - val_loss: 0.0000e+00 - val_accuracy: 1.0000\n",
      "Epoch 5/5\n",
      "539/539 [==============================] - 8s 14ms/step - loss: 1.5554e-10 - accuracy: 1.0000 - val_loss: 0.0000e+00 - val_accuracy: 1.0000\n"
     ]
    }
   ],
   "source": [
    "# Reshape labels to be 1D arrays for real vs. altered classification\n",
    "alteration_labels = np.concatenate([np.ones(len(Easy_data)), np.ones(len(Medium_data)), np.ones(len(Hard_data))], axis=0)\n",
    "alteration_labels = alteration_labels.flatten()\n",
    "\n",
    "# Convert labels to categorical\n",
    "train_labels_real = to_categorical(alteration_labels, num_classes=2)\n",
    "\n",
    "# Split the data into training and validation sets\n",
    "X_train_real, X_val_real, y_train_real, y_val_real = train_test_split(\n",
    "    data, train_labels_real, test_size=0.3, random_state=32\n",
    ")\n",
    "'''\n",
    "# Create generators for real vs. altered classification\n",
    "train_generator_real = train_datagen.flow(X_train_real, y_train_real, batch_size=64)\n",
    "val_generator_real = val_datagen.flow(X_val_real, y_val_real, batch_size=64)'''\n",
    "\n",
    "# Build the model for real vs. altered classification\n",
    "real_model = Sequential([\n",
    "    Conv2D(32, 3, padding='same', activation='relu', input_shape=(img_size, img_size, 1)),\n",
    "    MaxPooling2D(2),\n",
    "    Conv2D(32, 3, padding='same', activation='relu'),\n",
    "    BatchNormalization(),\n",
    "    MaxPooling2D(2),\n",
    "    Flatten(),\n",
    "    Dense(128, activation='relu'),\n",
    "    Dropout(0.4),\n",
    "\n",
    "    Dense(2, activation='softmax', name='real_output')\n",
    "])\n",
    "\n",
    "\n",
    "real_model.summary()\n",
    "real_model.compile(optimizer=optimizers.Adam(1e-3), \n",
    "                   loss='categorical_crossentropy', \n",
    "                   metrics=['accuracy'])\n",
    "\n",
    "early_stopping_cb_real = tf.keras.callbacks.EarlyStopping(monitor='val_loss', patience=3)\n",
    "\n",
    "history_real = real_model.fit(X_train_real, y_train_real, batch_size=64, epochs=5, \n",
    "                              validation_data=[X_val_real, y_val_real], \n",
    "                              callbacks=[early_stopping_cb_real], verbose=1)\n"
   ]
  },
  {
   "cell_type": "markdown",
   "metadata": {},
   "source": [
    "# Prediciting Input Image"
   ]
  },
  {
   "cell_type": "code",
   "execution_count": null,
   "metadata": {},
   "outputs": [],
   "source": [
    "def predict_image(model, real_model, img_path):\n",
    "    img = cv2.imread(img_path, cv2.IMREAD_GRAYSCALE)\n",
    "    img = cv2.resize(img, (img_size, img_size))\n",
    "    img = img.astype(np.float32) / 255.0\n",
    "    img = img.reshape(1, img_size, img_size, 1)\n",
    "\n",
    "    finger_prediction = model.predict(img)\n",
    "    real_prediction = real_model.predict(img)\n",
    "\n",
    "    finger_dict = {0: 'thumb', 1: 'index', 2: 'middle', 3: 'ring', 4: 'little'}\n",
    "    finger = finger_dict[np.argmax(finger_prediction)]\n",
    "    is_real = 'Real' if np.argmax(real_prediction) == 0 else 'Altered'\n",
    "\n",
    "    return finger, is_real"
   ]
  },
  {
   "cell_type": "code",
   "execution_count": null,
   "metadata": {},
   "outputs": [],
   "source": [
    "# Example usage of predict_image function\n",
    "img_path = \"C:/Users/marve/Vidhyuth/Programming/Datasets/Fingerprint_images/SOCOFing/Real/1__M_Left_little_finger.BMP\"\n",
    "gender, finger, is_real = predict_image(model, real_model, img_path)\n",
    "print(f\"Gender: {gender}, Finger: {finger}, Real/Altered: {is_real}\")"
   ]
  }
 ],
 "metadata": {
  "kernelspec": {
   "display_name": "Python 3",
   "language": "python",
   "name": "python3"
  },
  "language_info": {
   "codemirror_mode": {
    "name": "ipython",
    "version": 3
   },
   "file_extension": ".py",
   "mimetype": "text/x-python",
   "name": "python",
   "nbconvert_exporter": "python",
   "pygments_lexer": "ipython3",
   "version": "3.11.2"
  }
 },
 "nbformat": 4,
 "nbformat_minor": 2
}
