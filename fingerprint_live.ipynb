{
 "cells": [
  {
   "cell_type": "code",
   "execution_count": 1,
   "metadata": {},
   "outputs": [
    {
     "name": "stdout",
     "output_type": "stream",
     "text": [
      "WARNING:tensorflow:From c:\\Users\\marve\\AppData\\Local\\Programs\\Python\\Python311\\Lib\\site-packages\\keras\\src\\losses.py:2976: The name tf.losses.sparse_softmax_cross_entropy is deprecated. Please use tf.compat.v1.losses.sparse_softmax_cross_entropy instead.\n",
      "\n"
     ]
    }
   ],
   "source": [
    "import numpy as np\n",
    "import pandas as pd\n",
    "import seaborn as sns\n",
    "import tensorflow as tf\n",
    "\n",
    "import os\n",
    "import cv2\n",
    "\n",
    "import matplotlib.pyplot as plt\n",
    "from sklearn.model_selection import train_test_split\n",
    "from tensorflow.keras.preprocessing.image import ImageDataGenerator\n",
    "from tensorflow.keras import Sequential \n",
    "from tensorflow.keras.layers import Conv2D, MaxPooling2D, Dense, Flatten, BatchNormalization, Dropout\n",
    "from tensorflow.keras import layers\n",
    "from tensorflow.keras import optimizers"
   ]
  },
  {
   "cell_type": "code",
   "execution_count": 3,
   "metadata": {},
   "outputs": [],
   "source": [
    "img_size = 32\n",
    "\n",
    "def loading_data(path,label):\n",
    "    print(\"loading data from: \",path)\n",
    "    data = []\n",
    "    for img in os.listdir(path):\n",
    "        try:\n",
    "            img_array = cv2.imread(os.path.join(path, img), cv2.IMREAD_GRAYSCALE)\n",
    "            img_resize = cv2.resize(img_array, (img_size, img_size))\n",
    "            data.append([label, img_resize])\n",
    "        except Exception as e:\n",
    "            pass\n",
    "    return np.array(data, dtype=object)\n"
   ]
  },
  {
   "cell_type": "code",
   "execution_count": 6,
   "metadata": {},
   "outputs": [
    {
     "name": "stdout",
     "output_type": "stream",
     "text": [
      "loading data from:  C:/Users/marve/Vidhyuth/Programming/Datasets/Fingerprint_images/SOCOFing/Altered-Easy\n",
      "loading data from:  C:/Users/marve/Vidhyuth/Programming/Datasets/Fingerprint_images/SOCOFing/Altered-Medium\n",
      "loading data from:  C:/Users/marve/Vidhyuth/Programming/Datasets/Fingerprint_images/SOCOFing/Altered-Hard\n",
      "loading data from:  C:/Users/marve/Vidhyuth/Programming/Datasets/Fingerprint_images/SOCOFing/Real\n"
     ]
    }
   ],
   "source": [
    "Real_path = \"C:/Users/marve/Vidhyuth/Programming/Datasets/Fingerprint_images/SOCOFing/Real\"\n",
    "Easy_path = \"C:/Users/marve/Vidhyuth/Programming/Datasets/Fingerprint_images/SOCOFing/Altered-Easy\"\n",
    "Medium_path=\"C:/Users/marve/Vidhyuth/Programming/Datasets/Fingerprint_images/SOCOFing/Altered-Medium\"\n",
    "Hard_path = \"C:/Users/marve/Vidhyuth/Programming/Datasets/Fingerprint_images/SOCOFing/Altered-Hard\"\n",
    "\n",
    "Easy_data = loading_data(Easy_path,0)\n",
    "Medium_data = loading_data(Medium_path,0)\n",
    "Hard_data = loading_data(Hard_path,0)\n",
    "real_data = loading_data(Real_path,1)\n",
    "\n",
    "fake_data = np.concatenate([Easy_data,Medium_data,Hard_data],axis=0)\n",
    "del Easy_data, Medium_data, Hard_data"
   ]
  },
  {
   "cell_type": "code",
   "execution_count": 7,
   "metadata": {},
   "outputs": [],
   "source": [
    "# Separate labels and images\n",
    "real_labels, real_images = real_data[:, 0], real_data[:, 1]\n",
    "fake_labels, fake_images = fake_data[:, 0], fake_data[:, 1]\n",
    "\n",
    "# Reshape and normalize images\n",
    "real_images = np.array([img.reshape(img_size, img_size, 1) for img in real_images]) / 255.0\n",
    "fake_images = np.array([img.reshape(img_size, img_size, 1) for img in fake_images]) / 255.0"
   ]
  },
  {
   "cell_type": "code",
   "execution_count": 8,
   "metadata": {},
   "outputs": [
    {
     "name": "stdout",
     "output_type": "stream",
     "text": [
      "43270\n"
     ]
    }
   ],
   "source": [
    "# Create ImageDataGenerator for augmentation\n",
    "datagen = ImageDataGenerator(\n",
    "    rotation_range=20,\n",
    "    width_shift_range=0.2,\n",
    "    height_shift_range=0.2,\n",
    "    horizontal_flip=True,\n",
    "    zoom_range=0.2,\n",
    "    shear_range=0.2,\n",
    "    fill_mode='nearest'\n",
    ")\n",
    "\n",
    "# Calculate how many augmented real images we need\n",
    "num_fake = len(fake_images)\n",
    "num_real = len(real_images)\n",
    "num_augmented_needed = num_fake - num_real\n",
    "print(num_augmented_needed)"
   ]
  },
  {
   "cell_type": "code",
   "execution_count": 13,
   "metadata": {},
   "outputs": [],
   "source": [
    "# Generate augmented real images\n",
    "augmented_real_images = []\n",
    "augmented_real_labels = []\n",
    "\n",
    "for x_batch, y_batch in datagen.flow(real_images, real_labels, batch_size=32):\n",
    "    augmented_real_images.extend(x_batch)\n",
    "    augmented_real_labels.extend(y_batch)\n",
    "    if len(augmented_real_images) >= num_augmented_needed:\n",
    "        break\n",
    "\n",
    "augmented_real_images = np.array(augmented_real_images[:num_augmented_needed])\n",
    "augmented_real_labels = np.array(augmented_real_labels[:num_augmented_needed])\n",
    "\n",
    "# Combine original and augmented real images, and all fake images\n",
    "all_images = np.concatenate([real_images, augmented_real_images, fake_images], axis=0)\n",
    "all_labels = np.concatenate([real_labels, augmented_real_labels, fake_labels], axis=0)"
   ]
  },
  {
   "cell_type": "code",
   "execution_count": 24,
   "metadata": {},
   "outputs": [
    {
     "data": {
      "text/plain": [
       "(49270, 32, 32, 1)"
      ]
     },
     "execution_count": 24,
     "metadata": {},
     "output_type": "execute_result"
    }
   ],
   "source": [
    "np.concatenate([real_images, augmented_real_images], axis=0).shape"
   ]
  },
  {
   "cell_type": "code",
   "execution_count": 25,
   "metadata": {},
   "outputs": [
    {
     "data": {
      "text/plain": [
       "(49270, 32, 32, 1)"
      ]
     },
     "execution_count": 25,
     "metadata": {},
     "output_type": "execute_result"
    }
   ],
   "source": [
    "fake_images.shape"
   ]
  },
  {
   "cell_type": "code",
   "execution_count": 32,
   "metadata": {},
   "outputs": [
    {
     "data": {
      "text/plain": [
       "(array([0, 1], dtype=object), array([49270, 49270], dtype=int64))"
      ]
     },
     "execution_count": 32,
     "metadata": {},
     "output_type": "execute_result"
    }
   ],
   "source": [
    "np.unique(all_labels, return_counts=True)"
   ]
  },
  {
   "cell_type": "code",
   "execution_count": 15,
   "metadata": {},
   "outputs": [],
   "source": [
    "# Shuffle the data\n",
    "indices = np.arange(len(all_images))\n",
    "np.random.shuffle(indices)\n",
    "all_images = all_images[indices]\n",
    "all_labels = all_labels[indices]\n",
    "\n",
    "# Convert labels to categorical\n",
    "from tensorflow.keras.utils import to_categorical\n",
    "all_labels_categorical = to_categorical(all_labels, num_classes=2)"
   ]
  },
  {
   "cell_type": "code",
   "execution_count": 16,
   "metadata": {},
   "outputs": [],
   "source": [
    "# Split into training and validation sets\n",
    "from sklearn.model_selection import train_test_split\n",
    "X_train, X_val, y_train, y_val = train_test_split(all_images, all_labels_categorical, test_size=0.2, random_state=42)"
   ]
  },
  {
   "cell_type": "code",
   "execution_count": 47,
   "metadata": {},
   "outputs": [
    {
     "name": "stdout",
     "output_type": "stream",
     "text": [
      "Model: \"sequential_7\"\n",
      "_________________________________________________________________\n",
      " Layer (type)                Output Shape              Param #   \n",
      "=================================================================\n",
      " conv2d_14 (Conv2D)          (None, 32, 32, 32)        320       \n",
      "                                                                 \n",
      " max_pooling2d_14 (MaxPooli  (None, 16, 16, 32)        0         \n",
      " ng2D)                                                           \n",
      "                                                                 \n",
      " conv2d_15 (Conv2D)          (None, 16, 16, 32)        9248      \n",
      "                                                                 \n",
      " batch_normalization_7 (Bat  (None, 16, 16, 32)        128       \n",
      " chNormalization)                                                \n",
      "                                                                 \n",
      " max_pooling2d_15 (MaxPooli  (None, 8, 8, 32)          0         \n",
      " ng2D)                                                           \n",
      "                                                                 \n",
      " flatten_9 (Flatten)         (None, 2048)              0         \n",
      "                                                                 \n",
      " dense_14 (Dense)            (None, 128)               262272    \n",
      "                                                                 \n",
      " dropout_7 (Dropout)         (None, 128)               0         \n",
      "                                                                 \n",
      " dense_15 (Dense)            (None, 2)                 258       \n",
      "                                                                 \n",
      "=================================================================\n",
      "Total params: 272226 (1.04 MB)\n",
      "Trainable params: 272162 (1.04 MB)\n",
      "Non-trainable params: 64 (256.00 Byte)\n",
      "_________________________________________________________________\n"
     ]
    }
   ],
   "source": [
    "model = Sequential([\n",
    "                    Conv2D(32, 3, padding='same', activation='relu',input_shape = [img_size,img_size, 1]),\n",
    "                    MaxPooling2D(2),\n",
    "                    Conv2D(32, 3, padding='same', activation='relu'),\n",
    "                    BatchNormalization(),\n",
    "                    MaxPooling2D(2),\n",
    "                    Flatten(),\n",
    "                    Dense(128,activation = 'relu'),\n",
    "                    Dropout(0.4),\n",
    "                    Dense(2, activation = 'softmax'),\n",
    "                    ])\n",
    "model.summary()\n",
    "model.compile(optimizer = optimizers.Adam(1e-3), \n",
    "              loss =tf.keras.losses.BinaryCrossentropy(from_logits=True), \n",
    "              metrics = ['accuracy'])\n",
    "early_stopping_cb = tf.keras.callbacks.EarlyStopping(monitor='val_loss', patience=3)"
   ]
  },
  {
   "cell_type": "code",
   "execution_count": 48,
   "metadata": {},
   "outputs": [
    {
     "name": "stdout",
     "output_type": "stream",
     "text": [
      "Epoch 1/5\n",
      "2464/2464 [==============================] - 22s 8ms/step - loss: 0.1659 - accuracy: 0.9369 - val_loss: 0.1390 - val_accuracy: 0.9371\n",
      "Epoch 2/5\n",
      "2464/2464 [==============================] - 20s 8ms/step - loss: 0.1407 - accuracy: 0.9383 - val_loss: 0.1330 - val_accuracy: 0.9383\n",
      "Epoch 3/5\n",
      "2464/2464 [==============================] - 22s 9ms/step - loss: 0.1300 - accuracy: 0.9392 - val_loss: 0.1406 - val_accuracy: 0.9377\n",
      "Epoch 4/5\n",
      "2464/2464 [==============================] - 21s 9ms/step - loss: 0.1243 - accuracy: 0.9411 - val_loss: 0.1223 - val_accuracy: 0.9406\n",
      "Epoch 5/5\n",
      "2464/2464 [==============================] - 21s 8ms/step - loss: 0.1199 - accuracy: 0.9424 - val_loss: 0.1239 - val_accuracy: 0.9393\n"
     ]
    }
   ],
   "source": [
    "history = model.fit(X_train,y_train, epochs=5, \n",
    "                    validation_data=[X_val,y_val], \n",
    "                    callbacks=[early_stopping_cb], verbose=1)"
   ]
  },
  {
   "cell_type": "code",
   "execution_count": 49,
   "metadata": {},
   "outputs": [
    {
     "data": {
      "text/plain": [
       "(0.0, 1.0)"
      ]
     },
     "execution_count": 49,
     "metadata": {},
     "output_type": "execute_result"
    },
    {
     "data": {
      "image/png": "[encoded data removed]",
      "text/plain": [
       "<Figure size 800x500 with 1 Axes>"
      ]
     },
     "metadata": {},
     "output_type": "display_data"
    }
   ],
   "source": [
    "import pandas as pd\n",
    "import matplotlib.pyplot as plt\n",
    "pd.DataFrame(history.history).plot(figsize = (8,5))\n",
    "plt.grid(True)\n",
    "plt.gca().set_ylim(0,1)"
   ]
  },
  {
   "cell_type": "code",
   "execution_count": 54,
   "metadata": {},
   "outputs": [
    {
     "name": "stdout",
     "output_type": "stream",
     "text": [
      "616/616 [==============================] - 2s 3ms/step\n"
     ]
    },
    {
     "data": {
      "image/png": "[encoded data removed]",
      "text/plain": [
       "<Figure size 600x400 with 2 Axes>"
      ]
     },
     "metadata": {},
     "output_type": "display_data"
    },
    {
     "name": "stdout",
     "output_type": "stream",
     "text": [
      "              precision    recall  f1-score   support\n",
      "\n",
      "        Fake       0.90      0.99      0.94      9853\n",
      "        Real       0.99      0.89      0.94      9855\n",
      "\n",
      "    accuracy                           0.94     19708\n",
      "   macro avg       0.94      0.94      0.94     19708\n",
      "weighted avg       0.94      0.94      0.94     19708\n",
      "\n"
     ]
    }
   ],
   "source": [
    "from sklearn.metrics import confusion_matrix\n",
    "import seaborn as sns\n",
    "import matplotlib.pyplot as plt\n",
    "\n",
    "# Generate predictions on the validation set\n",
    "y_pred = model.predict(X_val)\n",
    "y_pred_classes = np.argmax(y_pred, axis=1)\n",
    "y_true = np.argmax(y_val, axis=1)\n",
    "\n",
    "# Create the confusion matrix\n",
    "cm = confusion_matrix(y_true, y_pred_classes)\n",
    "\n",
    "# Plot the confusion matrix\n",
    "plt.figure(figsize=(6,4))\n",
    "sns.heatmap(cm, annot=True, fmt='d', cmap='Blues')\n",
    "plt.xlabel('Predicted')\n",
    "plt.ylabel('True')\n",
    "plt.title('Confusion Matrix')\n",
    "plt.show()\n",
    "\n",
    "# Print classification report\n",
    "from sklearn.metrics import classification_report\n",
    "print(classification_report(y_true, y_pred_classes, target_names=['Fake', 'Real']))"
   ]
  },
  {
   "cell_type": "code",
   "execution_count": 55,
   "metadata": {},
   "outputs": [
    {
     "name": "stdout",
     "output_type": "stream",
     "text": [
      "1/1 [==============================] - 0s 34ms/step\n",
      "Predicted class: Altered\n",
      "Confidence: 1.00\n"
     ]
    },
    {
     "data": {
      "image/png": "[encoded data removed]",
      "text/plain": [
       "<Figure size 640x480 with 1 Axes>"
      ]
     },
     "metadata": {},
     "output_type": "display_data"
    }
   ],
   "source": [
    "def preprocess_image(img_path):\n",
    "    img_array = cv2.imread(img_path, cv2.IMREAD_GRAYSCALE)\n",
    "    img_resize = cv2.resize(img_array, (img_size, img_size))\n",
    "    img_normalized = img_resize / 255.0\n",
    "    return img_normalized.reshape(-1, img_size, img_size, 1)\n",
    "\n",
    "# Path to your random fingerprint image\n",
    "random_img_path = r\"C:\\Users\\marve\\Vidhyuth\\Programming\\Datasets\\Fingerprint_images\\SOCOFing\\Altered-Hard\\1__M_Right_index_finger_Obl.BMP\"\n",
    "plt.imshow(cv2.imread(random_img_path))\n",
    "# Preprocess the image\n",
    "input_image = preprocess_image(random_img_path)\n",
    "prediction = model.predict(input_image)\n",
    "# Interpret the prediction\n",
    "class_names = ['Altered', 'Real']\n",
    "predicted_class = class_names[np.argmax(prediction[0])]\n",
    "confidence = np.max(prediction)\n",
    "\n",
    "print(f\"Predicted class: {predicted_class}\")\n",
    "print(f\"Confidence: {confidence:.2f}\")"
   ]
  },
  {
   "cell_type": "code",
   "execution_count": null,
   "metadata": {},
   "outputs": [],
   "source": []
  }
 ],
 "metadata": {
  "kernelspec": {
   "display_name": "Python 3",
   "language": "python",
   "name": "python3"
  },
  "language_info": {
   "codemirror_mode": {
    "name": "ipython",
    "version": 3
   },
   "file_extension": ".py",
   "mimetype": "text/x-python",
   "name": "python",
   "nbconvert_exporter": "python",
   "pygments_lexer": "ipython3",
   "version": "3.11.2"
  }
 },
 "nbformat": 4,
 "nbformat_minor": 2
}
